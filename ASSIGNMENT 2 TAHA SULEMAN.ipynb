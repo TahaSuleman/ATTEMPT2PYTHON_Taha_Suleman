{
 "cells": [
  {
   "cell_type": "code",
   "execution_count": 1,
   "metadata": {},
   "outputs": [
    {
     "name": "stdout",
     "output_type": "stream",
     "text": [
      "Enter marks for subject 1: 98\n",
      "Enter marks for subject 2: 67\n",
      "Enter marks for subject 3: 88\n",
      "Enter marks for subject 4: 99\n",
      "Enter marks for subject 5: 97\n",
      "Your Percentage is:  89.8\n",
      " and Grade is A+\n"
     ]
    }
   ],
   "source": [
    "#Assignment No2\n",
    "#Task 1\n",
    "Marks=[];\n",
    "sub1=int(input(\"Enter marks for subject 1: \"))\n",
    "sub2=int(input(\"Enter marks for subject 2: \"))\n",
    "sub3=int(input(\"Enter marks for subject 3: \"))\n",
    "sub4=int(input(\"Enter marks for subject 4: \"))\n",
    "sub5=int(input(\"Enter marks for subject 5: \"))\n",
    "if sub1<=100 and sub2<=100 and sub3<=100 and sub4<=100 and sub5<=100:\n",
    "    total_marks= sub1+sub2+sub3+sub4+sub5;\n",
    "    percentage=(total_marks/500)*100;\n",
    "    print(\"Your Percentage is: \",percentage)\n",
    "    if percentage<=100 and percentage>=80:\n",
    "        print(\" and Grade is A+\")\n",
    "    elif percentage>=70:\n",
    "        print(\" and Grade is A\")\n",
    "    elif percentage>=60:\n",
    "        print(\" and Grade is B\")\n",
    "    elif percentage>=50:\n",
    "        print(\" and Grade is C\")\n",
    "    elif percentage>=33:\n",
    "        print(\" and Grade is D\")\n",
    "    elif percentage<33:\n",
    "        print(\"You Failed\")\n",
    "else:\n",
    "    print(\"Invalid number\")"
   ]
  },
  {
   "cell_type": "code",
   "execution_count": 2,
   "metadata": {},
   "outputs": [
    {
     "name": "stdout",
     "output_type": "stream",
     "text": [
      "Enter number4\n",
      "Even\n"
     ]
    }
   ],
   "source": [
    "#Assignment No 1\n",
    "#Task 2\n",
    "num=int(input(\"Enter number\"))\n",
    "if num%2 ==0:\n",
    "    print(\"Even\")\n",
    "else:\n",
    "    print(\"Odd\")"
   ]
  },
  {
   "cell_type": "code",
   "execution_count": 6,
   "metadata": {},
   "outputs": [
    {
     "name": "stdout",
     "output_type": "stream",
     "text": [
      "6\n"
     ]
    }
   ],
   "source": [
    "#Assignment No 2\n",
    "#Task 3\n",
    "Arr=[44,55,74,21,45,78]\n",
    "print(len(Arr))"
   ]
  },
  {
   "cell_type": "code",
   "execution_count": 14,
   "metadata": {},
   "outputs": [
    {
     "name": "stdout",
     "output_type": "stream",
     "text": [
      "Sum of list=  55\n"
     ]
    }
   ],
   "source": [
    "#Assignment No 2\n",
    "#Task 4\n",
    "Arr1=[1,2,3,4,5,6,7,8,9,10]\n",
    "length=len(Arr1)\n",
    "sum=0\n",
    "for i in range(length):\n",
    "    sum=sum+Arr1[i]\n",
    "print(\"Sum of list= \",sum )\n"
   ]
  },
  {
   "cell_type": "code",
   "execution_count": 16,
   "metadata": {},
   "outputs": [
    {
     "name": "stdout",
     "output_type": "stream",
     "text": [
      "55\n"
     ]
    }
   ],
   "source": [
    "#Assignment No 2\n",
    "#Task 5\n",
    "Arr2=[1,2,3,55,5,6,7,8]\n",
    "print(max(Arr2))"
   ]
  },
  {
   "cell_type": "code",
   "execution_count": 24,
   "metadata": {},
   "outputs": [
    {
     "name": "stdout",
     "output_type": "stream",
     "text": [
      "1\n",
      "2\n",
      "3\n",
      "4\n",
      "4\n",
      "2\n"
     ]
    }
   ],
   "source": [
    "#Assignment No 2\n",
    "#Task 5\n",
    "list=[1, 2, 3, 4, 5, 5, 67, 7, 86, 4, 2]\n",
    "for i in range(len(list)):\n",
    "    if list[i]<5:\n",
    "        print(list[i])"
   ]
  },
  {
   "cell_type": "code",
   "execution_count": null,
   "metadata": {},
   "outputs": [],
   "source": []
  },
  {
   "cell_type": "code",
   "execution_count": null,
   "metadata": {},
   "outputs": [],
   "source": []
  }
 ],
 "metadata": {
  "kernelspec": {
   "display_name": "Python 3",
   "language": "python",
   "name": "python3"
  },
  "language_info": {
   "codemirror_mode": {
    "name": "ipython",
    "version": 3
   },
   "file_extension": ".py",
   "mimetype": "text/x-python",
   "name": "python",
   "nbconvert_exporter": "python",
   "pygments_lexer": "ipython3",
   "version": "3.7.4"
  }
 },
 "nbformat": 4,
 "nbformat_minor": 2
}
