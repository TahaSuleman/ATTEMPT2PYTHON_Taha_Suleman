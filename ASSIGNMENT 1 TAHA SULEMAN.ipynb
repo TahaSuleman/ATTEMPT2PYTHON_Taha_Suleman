{
 "cells": [
  {
   "cell_type": "code",
   "execution_count": 1,
   "metadata": {},
   "outputs": [
    {
     "name": "stdout",
     "output_type": "stream",
     "text": [
      "Twinkle, twinkle, little star,\n",
      "      How I wonder what you are!\n",
      "            Up above the world so high,\n",
      "            Like a diamond in the sky.\n",
      "Twinkle, twinkle, little star,\n",
      "      How I wonder what you are.\n"
     ]
    }
   ],
   "source": [
    "#Assignment No1\n",
    "#Task 1\n",
    "print(\"Twinkle, twinkle, little star,\");\n",
    "print(\"      How I wonder what you are!\");\n",
    "print(\"            Up above the world so high,\");\n",
    "print(\"            Like a diamond in the sky.\");\n",
    "print(\"Twinkle, twinkle, little star,\");\n",
    "print(\"      How I wonder what you are.\");\n"
   ]
  },
  {
   "cell_type": "code",
   "execution_count": 2,
   "metadata": {},
   "outputs": [
    {
     "name": "stdout",
     "output_type": "stream",
     "text": [
      "3.7.4\n",
      "\n",
      "PYTHON VERSION: 3.7.4\n"
     ]
    }
   ],
   "source": [
    "#Assignment No2\n",
    "#Task METHOD 2.1\n",
    "from platform import python_version;\n",
    "print(python_version());\n",
    "\n",
    "#Task METHOD 2.2\n",
    "#\n",
    "print(\"\\nPYTHON VERSION: 3.7.4\");\n"
   ]
  },
  {
   "cell_type": "code",
   "execution_count": 3,
   "metadata": {},
   "outputs": [
    {
     "name": "stdout",
     "output_type": "stream",
     "text": [
      "Current Date and Time: \n",
      "2019-11-03 23:17:35\n",
      "23:17:35 on Sunday, November 03, 2019\n",
      "Current Time and Date: \n",
      "11:17 pm, 3 November 2019\n"
     ]
    }
   ],
   "source": [
    "#Assignment No3\n",
    "#Task METHOD 3.1\n",
    "import datetime;\n",
    "date_time = datetime.datetime.now();\n",
    "\n",
    "print(\"Current Date and Time: \");\n",
    "print(date_time.strftime('%Y-%m-%d %H:%M:%S'));\n",
    "\n",
    "#Task Method 3.2\n",
    "print(date_time.strftime('%H:%M:%S on %A, %B %d, %Y'));\n",
    "\n",
    "#Task Method 3.3\n",
    "print(\"Current Time and Date: \");\n",
    "print(\"11:17 pm, 3 November 2019\");\n"
   ]
  },
  {
   "cell_type": "code",
   "execution_count": 7,
   "metadata": {},
   "outputs": [
    {
     "name": "stdout",
     "output_type": "stream",
     "text": [
      "Enter the radius of circle in cm: 10\n",
      "The area of the circle is: \n",
      "314.1592653589793 cm2\n"
     ]
    }
   ],
   "source": [
    "#Assignment No4\n",
    "#Task 4\n",
    "radius=float( input(\"Enter the radius of circle in cm: \"));\n",
    "pi=3.1415926535897932384626433832 #correct upto 28 decimal places\n",
    "Area= pi*(radius**2)\n",
    "print(\"The area of the circle is: \");\n",
    "print(Area,'cm2');"
   ]
  },
  {
   "cell_type": "code",
   "execution_count": 8,
   "metadata": {},
   "outputs": [
    {
     "name": "stdout",
     "output_type": "stream",
     "text": [
      "Please Enter First name: Taha\n",
      "Please Enter Last name: Suleman\n",
      "Suleman   Taha\n"
     ]
    }
   ],
   "source": [
    "#Assignment No5\n",
    "#Task 5\n",
    "First_Name= input('Please Enter First name: ');\n",
    "Last_Name= input('Please Enter Last name: ');\n",
    "print(Last_Name,\" \",First_Name);"
   ]
  },
  {
   "cell_type": "code",
   "execution_count": 9,
   "metadata": {},
   "outputs": [
    {
     "name": "stdout",
     "output_type": "stream",
     "text": [
      "Enter First number: 1\n",
      "Enter Second number: 2\n",
      "The answer is :  3.0\n",
      "Enter First sentence: taha\n",
      "Enter Second sentence: suleman\n",
      "tahasuleman\n"
     ]
    }
   ],
   "source": [
    "#Assignment No6\n",
    "#Task METHOD 6.1\n",
    "First_Operand= float(input(\"Enter First number: \"));\n",
    "Second_Operand= float(input(\"Enter Second number: \"));\n",
    "ADD= First_Operand + Second_Operand;\n",
    "print(\"The answer is : \", ADD);\n",
    "\n",
    "#Task METHOD 6.2\n",
    "String1=input(\"Enter First sentence: \");\n",
    "String2=input(\"Enter Second sentence: \");\n",
    "print( String1 + String2);"
   ]
  },
  {
   "cell_type": "code",
   "execution_count": null,
   "metadata": {},
   "outputs": [],
   "source": []
  }
 ],
 "metadata": {
  "kernelspec": {
   "display_name": "Python 3",
   "language": "python",
   "name": "python3"
  },
  "language_info": {
   "codemirror_mode": {
    "name": "ipython",
    "version": 3
   },
   "file_extension": ".py",
   "mimetype": "text/x-python",
   "name": "python",
   "nbconvert_exporter": "python",
   "pygments_lexer": "ipython3",
   "version": "3.7.4"
  }
 },
 "nbformat": 4,
 "nbformat_minor": 2
}
